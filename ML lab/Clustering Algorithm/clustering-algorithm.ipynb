{
 "cells": [
  {
   "cell_type": "code",
   "execution_count": null,
   "id": "10a61c47-b25a-40f0-8aa1-03a70a0a400a",
   "metadata": {},
   "outputs": [],
   "source": []
  }
 ],
 "metadata": {
  "kernelspec": {
   "display_name": "",
   "name": ""
  },
  "language_info": {
   "name": ""
  }
 },
 "nbformat": 4,
 "nbformat_minor": 5
}

{
 "cells": [
  {
   "cell_type": "code",
   "execution_count": 2,
   "id": "d30c6c2b-1ec2-4dc7-a1f8-2e20be32a999",
   "metadata": {},
   "outputs": [
    {
     "name": "stdout",
     "output_type": "stream",
     "text": [
      "\n",
      "🔹 **Step-by-step hypothesis updates:**\n",
      "Iteration 1: Current Hypothesis → ['High', 'Excellent', 'Yes', 'Stable', 'Low', 'Small']\n",
      "Iteration 2: Current Hypothesis → ['High', '?', 'Yes', 'Stable', '?', '?']\n",
      "Iteration 3: Current Hypothesis → ['?', '?', 'Yes', 'Stable', '?', '?']\n",
      "Iteration 4: Current Hypothesis → ['?', '?', 'Yes', 'Stable', '?', '?']\n",
      "Iteration 5: Current Hypothesis → ['?', '?', 'Yes', 'Stable', '?', '?']\n",
      "Iteration 6: Current Hypothesis → ['?', '?', 'Yes', 'Stable', '?', '?']\n",
      "Iteration 7: Current Hypothesis → ['?', '?', 'Yes', 'Stable', '?', '?']\n",
      "Iteration 8: Current Hypothesis → ['?', '?', '?', 'Stable', '?', '?']\n",
      "Iteration 9: Current Hypothesis → ['?', '?', '?', 'Stable', '?', '?']\n",
      "Iteration 10: Current Hypothesis → ['?', '?', '?', 'Stable', '?', '?']\n",
      "Iteration 11: Current Hypothesis → ['?', '?', '?', 'Stable', '?', '?']\n",
      "\n",
      "✅ **Final Hypothesis:** ['?', '?', '?', 'Stable', '?', '?']\n"
     ]
    },
    {
     "name": "stderr",
     "output_type": "stream",
     "text": [
      "/tmp/ipykernel_5004/3975418971.py:37: FutureWarning: Series.__getitem__ treating keys as positions is deprecated. In a future version, integer keys will always be treated as labels (consistent with DataFrame behavior). To access a value by position, use `ser.iloc[pos]`\n",
      "  if h_s[j] != row[j]:\n"
     ]
    }
   ],
   "source": [
    "from matplotlib import pyplot as plt\n",
    "import numpy as np\n",
    "import pandas as pd\n",
    "\n",
    "# Expanded dataset with more attributes (20 rows)\n",
    "dataset = [\n",
    "    [\"High\", \"Excellent\", \"Yes\", \"Stable\", \"Low\", \"Small\", \"Approved\"],\n",
    "    [\"High\", \"Good\", \"Yes\", \"Stable\", \"Moderate\", \"Medium\", \"Approved\"],\n",
    "    [\"Medium\", \"Good\", \"Yes\", \"Stable\", \"Low\", \"Small\", \"Approved\"],\n",
    "    [\"Medium\", \"Good\", \"No\", \"Stable\", \"High\", \"Large\", \"Rejected\"],   # Negative\n",
    "    [\"Low\", \"Poor\", \"No\", \"Unstable\", \"High\", \"Large\", \"Rejected\"],    # Negative\n",
    "    [\"High\", \"Excellent\", \"Yes\", \"Stable\", \"Moderate\", \"Medium\", \"Approved\"],\n",
    "    [\"Medium\", \"Good\", \"Yes\", \"Stable\", \"Low\", \"Small\", \"Approved\"],\n",
    "    [\"High\", \"Good\", \"No\", \"Stable\", \"Moderate\", \"Medium\", \"Approved\"],\n",
    "    [\"High\", \"Poor\", \"No\", \"Unstable\", \"High\", \"Large\", \"Rejected\"],   # Negative\n",
    "    [\"Medium\", \"Good\", \"Yes\", \"Stable\", \"Moderate\", \"Medium\", \"Approved\"],\n",
    "    [\"High\", \"Excellent\", \"Yes\", \"Stable\", \"Low\", \"Small\", \"Approved\"]\n",
    " \n",
    "]\n",
    "\n",
    "# Convert to DataFrame\n",
    "columns = [\"Income\", \"CreditScore\", \"Collateral\", \"Employment\", \"Debt\", \"LoanAmount\", \"LoanApproved\"]\n",
    "df = pd.DataFrame(dataset, columns=columns)\n",
    "\n",
    "# Find-S Algorithm with step-by-step updates\n",
    "def find_s_algorithm(data, target_col):\n",
    "    num_features = len(data.columns) - 1  # Number of attributes\n",
    "    h_s = [\"ϕ\"] * num_features  # Most specific hypothesis initialization\n",
    "\n",
    "    print(\"\\n🔹 **Step-by-step hypothesis updates:**\")\n",
    "    for i, row in data.iterrows():\n",
    "        if row[target_col] == \"Approved\":  # Consider only positive examples\n",
    "            if h_s == [\"ϕ\"] * num_features:  # First positive example initializes h_s\n",
    "                h_s = row[:-1].tolist()\n",
    "            else:\n",
    "                for j in range(num_features):\n",
    "                    if h_s[j] != row[j]:  \n",
    "                        h_s[j] = \"?\"\n",
    "       \n",
    "        print(f\"Iteration {i+1}: Current Hypothesis → {h_s}\")  # Print step-by-step updates\n",
    "\n",
    "    return h_s\n",
    "\n",
    "# Run Find-S Algorithm\n",
    "final_hypothesis = find_s_algorithm(df, \"LoanApproved\")\n",
    "\n",
    "# Display the final hypothesis\n",
    "print(\"\\n✅ **Final Hypothesis:**\", final_hypothesis)\n",
    "\n",
    "# Generate 100 random data points along 3 dimensions\n",
    "# x, y, scale = np.random.randn(3, 100)\n",
    "# fig, ax = plt.subplots()\n",
    "\n",
    "# Map each onto a scatterplot we'll create with Matplotlib\n",
    "# ax.scatter(x=x, y=y, c=scale, s=np.abs(scale)*500)\n",
    "# ax.set(title=\"Some random data, created with JupyterLab!\")\n",
    "# plt.show()\n",
    "\n"
   ]
  },
  {
   "cell_type": "code",
   "execution_count": null,
   "id": "b8d247fd-27cc-4ebe-977c-0290154d671d",
   "metadata": {},
   "outputs": [],
   "source": []
  }
 ],
 "metadata": {
  "kernelspec": {
   "display_name": "Python 3 (ipykernel)",
   "language": "python",
   "name": "python3"
  },
  "language_info": {
   "codemirror_mode": {
    "name": "ipython",
    "version": 3
   },
   "file_extension": ".py",
   "mimetype": "text/x-python",
   "name": "python",
   "nbconvert_exporter": "python",
   "pygments_lexer": "ipython3",
   "version": "3.12.7"
  }
 },
 "nbformat": 4,
 "nbformat_minor": 5
}
